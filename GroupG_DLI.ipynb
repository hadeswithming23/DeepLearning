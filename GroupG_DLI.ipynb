{
  "nbformat": 4,
  "nbformat_minor": 0,
  "metadata": {
    "colab": {
      "provenance": [],
      "include_colab_link": true
    },
    "kernelspec": {
      "name": "python3",
      "display_name": "Python 3"
    },
    "language_info": {
      "name": "python"
    }
  },
  "cells": [
    {
      "cell_type": "markdown",
      "metadata": {
        "id": "view-in-github",
        "colab_type": "text"
      },
      "source": [
        "<a href=\"https://colab.research.google.com/github/hadeswithming23/DeepLearning/blob/main/GroupG_DLI.ipynb\" target=\"_parent\"><img src=\"https://colab.research.google.com/assets/colab-badge.svg\" alt=\"Open In Colab\"/></a>"
      ]
    },
    {
      "cell_type": "markdown",
      "source": [
        "# 1. Import Libraries"
      ],
      "metadata": {
        "id": "9TbHssvzKLwm"
      }
    },
    {
      "cell_type": "code",
      "execution_count": null,
      "metadata": {
        "id": "jIqSJ8w2Ie_h"
      },
      "outputs": [],
      "source": [
        "# Core libraries\n",
        "import numpy as np\n",
        "import pandas as pd\n",
        "import matplotlib.pyplot as plt\n",
        "\n",
        "# Suppress warnings for cleaner output\n",
        "import warnings\n",
        "warnings.filterwarnings(\"ignore\")\n",
        "\n",
        "# Pandas display options\n",
        "pd.set_option(\"display.float_format\", \"{:.3f}\".format)\n",
        "\n",
        "# Matplotlib defaults\n",
        "plt.rcParams.update({\n",
        "    \"figure.figsize\": (10, 6),\n",
        "    \"axes.grid\": True,       # makes plots more readable\n",
        "    \"grid.alpha\": 0.3        # subtle grid lines\n",
        "})"
      ]
    },
    {
      "cell_type": "markdown",
      "source": [
        "# 2. Read Dataset"
      ],
      "metadata": {
        "id": "xEhRBLUkMlWL"
      }
    },
    {
      "cell_type": "code",
      "source": [
        "# Load dataset\n",
        "raw_df = pd.read_csv(\"KDDTrain+.txt\")\n",
        "\n",
        "# Create a working copy to avoid modifying the raw data\n",
        "df = raw_df.copy(deep=True)\n",
        "\n",
        "# Preview the first rows\n",
        "df.head()"
      ],
      "metadata": {
        "id": "Oc5Mm8BAMsCY"
      },
      "execution_count": null,
      "outputs": []
    },
    {
      "cell_type": "markdown",
      "source": [
        "## 2.1 Add Columns Names"
      ],
      "metadata": {
        "id": "irDPwDYvMvUs"
      }
    },
    {
      "cell_type": "code",
      "source": [
        "# Define column names for the KDD dataset\n",
        "columns = [\n",
        "    \"duration\", \"protocol_type\", \"service\", \"flag\", \"src_bytes\", \"dst_bytes\",\n",
        "    \"land\", \"wrong_fragment\", \"urgent\", \"hot\", \"num_failed_logins\", \"logged_in\",\n",
        "    \"num_compromised\", \"root_shell\", \"su_attempted\", \"num_root\", \"num_file_creations\",\n",
        "    \"num_shells\", \"num_access_files\", \"num_outbound_cmds\", \"is_host_login\",\n",
        "    \"is_guest_login\", \"count\", \"srv_count\", \"serror_rate\", \"srv_serror_rate\",\n",
        "    \"rerror_rate\", \"srv_rerror_rate\", \"same_srv_rate\", \"diff_srv_rate\",\n",
        "    \"srv_diff_host_rate\", \"dst_host_count\", \"dst_host_srv_count\",\n",
        "    \"dst_host_same_srv_rate\", \"dst_host_diff_srv_rate\",\n",
        "    \"dst_host_same_src_port_rate\", \"dst_host_srv_diff_host_rate\",\n",
        "    \"dst_host_serror_rate\", \"dst_host_srv_serror_rate\",\n",
        "    \"dst_host_rerror_rate\", \"dst_host_srv_rerror_rate\",\n",
        "    \"attack\", \"level\"\n",
        "]\n",
        "\n",
        "# Load dataset with column names directly\n",
        "df = pd.read_csv(\"KDDTrain+.txt\", names=columns)\n",
        "\n",
        "# Preview\n",
        "df.head()"
      ],
      "metadata": {
        "id": "txx5WW1pMwtj"
      },
      "execution_count": null,
      "outputs": []
    },
    {
      "cell_type": "markdown",
      "source": [
        "#2.2 Dataset Insights"
      ],
      "metadata": {
        "id": "ocn1-DITNnVU"
      }
    },
    {
      "cell_type": "code",
      "source": [
        "df.info()"
      ],
      "metadata": {
        "id": "IQNJxWJRNqjZ"
      },
      "execution_count": null,
      "outputs": []
    }
  ]
}