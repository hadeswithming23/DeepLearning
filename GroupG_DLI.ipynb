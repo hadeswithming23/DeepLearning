{
  "nbformat": 4,
  "nbformat_minor": 0,
  "metadata": {
    "colab": {
      "provenance": [],
      "authorship_tag": "ABX9TyPkzu3AX0r2HO8vbsQ+eG7H",
      "include_colab_link": true
    },
    "kernelspec": {
      "name": "python3",
      "display_name": "Python 3"
    },
    "language_info": {
      "name": "python"
    }
  },
  "cells": [
    {
      "cell_type": "markdown",
      "metadata": {
        "id": "view-in-github",
        "colab_type": "text"
      },
      "source": [
        "<a href=\"https://colab.research.google.com/github/hadeswithming23/DeepLearning/blob/main/GroupG_DLI.ipynb\" target=\"_parent\"><img src=\"https://colab.research.google.com/assets/colab-badge.svg\" alt=\"Open In Colab\"/></a>"
      ]
    },
    {
      "cell_type": "markdown",
      "source": [
        "[![Open In Colab](https://colab.research.google.com/assets/colab-badge.svg)](https://colab.research.google.com/github/</<REPO>/blob/<BRANCH>/<PATH_TO_NOTEBOOK>.ipynb)\n"
      ],
      "metadata": {
        "id": "4NRGebaeLxhV"
      }
    },
    {
      "cell_type": "markdown",
      "source": [
        "# 1. Import Libraries"
      ],
      "metadata": {
        "id": "9TbHssvzKLwm"
      }
    },
    {
      "cell_type": "code",
      "execution_count": null,
      "metadata": {
        "id": "jIqSJ8w2Ie_h"
      },
      "outputs": [],
      "source": [
        "# Core libraries\n",
        "import numpy as np\n",
        "import pandas as pd\n",
        "import matplotlib.pyplot as plt\n",
        "\n",
        "# Suppress warnings for cleaner output\n",
        "import warnings\n",
        "warnings.filterwarnings(\"ignore\")\n",
        "\n",
        "# Pandas display options\n",
        "pd.set_option(\"display.float_format\", \"{:.3f}\".format)\n",
        "\n",
        "# Matplotlib defaults\n",
        "plt.rcParams.update({\n",
        "    \"figure.figsize\": (10, 6),\n",
        "    \"axes.grid\": True,       # makes plots more readable\n",
        "    \"grid.alpha\": 0.3        # subtle grid lines\n",
        "})"
      ]
    }
  ]
}